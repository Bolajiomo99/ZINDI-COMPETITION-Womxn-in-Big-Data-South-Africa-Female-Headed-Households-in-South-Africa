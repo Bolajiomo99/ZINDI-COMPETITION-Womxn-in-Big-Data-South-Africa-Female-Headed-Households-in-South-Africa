{
 "cells": [
  {
   "cell_type": "markdown",
   "metadata": {},
   "source": [
    "## LOADING THE DATASET INTO THE WORKSPACE"
   ]
  },
  {
   "cell_type": "code",
   "execution_count": 1,
   "metadata": {},
   "outputs": [
    {
     "name": "stdout",
     "output_type": "stream",
     "text": [
      "(2822, 63)\n",
      "(1013, 62)\n"
     ]
    }
   ],
   "source": [
    "import pandas as pd\n",
    "import numpy as np\n",
    "import matplotlib.pyplot as plt\n",
    "import seaborn as sns\n",
    "from matplotlib import pyplot\n",
    "pd.set_option('display.max_colwidth', 200)\n",
    "\n",
    "train = pd.read_csv('Train.csv')\n",
    "test = pd.read_csv('Test.csv')\n",
    "\n",
    "print(train.shape)\n",
    "print(test.shape)"
   ]
  },
  {
   "cell_type": "markdown",
   "metadata": {},
   "source": [
    "## USING SOME BUILT-IN PANDA FUNCTIONS TO GET TO KNOW OUR DATA"
   ]
  },
  {
   "cell_type": "markdown",
   "metadata": {},
   "source": [
    "#### - I enjoy using SPREADSHEET application like Excel for this\n",
    "#### - I recommend use of JUPYTERLAB it allows one to view dataset in a spreadsheet way"
   ]
  },
  {
   "cell_type": "code",
   "execution_count": 2,
   "metadata": {},
   "outputs": [
    {
     "name": "stdout",
     "output_type": "stream",
     "text": [
      "<class 'pandas.core.frame.DataFrame'>\n",
      "RangeIndex: 2822 entries, 0 to 2821\n",
      "Data columns (total 63 columns):\n",
      "ward                 2822 non-null object\n",
      "total_households     2822 non-null float64\n",
      "total_individuals    2822 non-null float64\n",
      "target               2822 non-null float64\n",
      "dw_00                2822 non-null float64\n",
      "dw_01                2822 non-null float64\n",
      "dw_02                2822 non-null float64\n",
      "dw_03                2822 non-null float64\n",
      "dw_04                2822 non-null float64\n",
      "dw_05                2822 non-null float64\n",
      "dw_06                2822 non-null float64\n",
      "dw_07                2822 non-null float64\n",
      "dw_08                2822 non-null float64\n",
      "dw_09                2822 non-null float64\n",
      "dw_10                2822 non-null float64\n",
      "dw_11                2822 non-null float64\n",
      "dw_12                2822 non-null int64\n",
      "dw_13                2822 non-null int64\n",
      "psa_00               2822 non-null float64\n",
      "psa_01               2822 non-null float64\n",
      "psa_02               2822 non-null float64\n",
      "psa_03               2822 non-null float64\n",
      "psa_04               2822 non-null float64\n",
      "stv_00               2822 non-null float64\n",
      "stv_01               2822 non-null float64\n",
      "car_00               2822 non-null float64\n",
      "car_01               2822 non-null float64\n",
      "lln_00               2822 non-null float64\n",
      "lln_01               2822 non-null float64\n",
      "lan_00               2822 non-null float64\n",
      "lan_01               2822 non-null float64\n",
      "lan_02               2822 non-null float64\n",
      "lan_03               2822 non-null float64\n",
      "lan_04               2822 non-null float64\n",
      "lan_05               2822 non-null float64\n",
      "lan_06               2822 non-null float64\n",
      "lan_07               2822 non-null float64\n",
      "lan_08               2822 non-null float64\n",
      "lan_09               2822 non-null float64\n",
      "lan_10               2822 non-null float64\n",
      "lan_11               2822 non-null float64\n",
      "lan_12               2822 non-null float64\n",
      "lan_13               2822 non-null int64\n",
      "lan_14               2822 non-null float64\n",
      "pg_00                2822 non-null float64\n",
      "pg_01                2822 non-null float64\n",
      "pg_02                2822 non-null float64\n",
      "pg_03                2822 non-null float64\n",
      "pg_04                2822 non-null float64\n",
      "lgt_00               2822 non-null float64\n",
      "pw_00                2822 non-null float64\n",
      "pw_01                2822 non-null float64\n",
      "pw_02                2822 non-null float64\n",
      "pw_03                2822 non-null float64\n",
      "pw_04                2822 non-null float64\n",
      "pw_05                2822 non-null float64\n",
      "pw_06                2822 non-null float64\n",
      "pw_07                2822 non-null int64\n",
      "pw_08                2822 non-null int64\n",
      "ADM4_PCODE           2822 non-null object\n",
      "lat                  2822 non-null float64\n",
      "lon                  2822 non-null float64\n",
      "NL                   2822 non-null float64\n",
      "dtypes: float64(56), int64(5), object(2)\n",
      "memory usage: 1.4+ MB\n"
     ]
    }
   ],
   "source": [
    "train.info()"
   ]
  },
  {
   "cell_type": "markdown",
   "metadata": {},
   "source": [
    "#### - The Dataset contains mostly data in NUMERICAL format (int, float64)"
   ]
  },
  {
   "cell_type": "code",
   "execution_count": 3,
   "metadata": {},
   "outputs": [
    {
     "name": "stdout",
     "output_type": "stream",
     "text": [
      "<class 'pandas.core.frame.DataFrame'>\n",
      "RangeIndex: 1013 entries, 0 to 1012\n",
      "Data columns (total 62 columns):\n",
      "ward                 1013 non-null object\n",
      "total_households     1013 non-null float64\n",
      "total_individuals    1013 non-null float64\n",
      "dw_00                1013 non-null float64\n",
      "dw_01                1013 non-null float64\n",
      "dw_02                1013 non-null float64\n",
      "dw_03                1013 non-null float64\n",
      "dw_04                1013 non-null float64\n",
      "dw_05                1013 non-null float64\n",
      "dw_06                1013 non-null float64\n",
      "dw_07                1013 non-null float64\n",
      "dw_08                1013 non-null float64\n",
      "dw_09                1013 non-null float64\n",
      "dw_10                1013 non-null float64\n",
      "dw_11                1013 non-null float64\n",
      "dw_12                1013 non-null float64\n",
      "dw_13                1013 non-null float64\n",
      "psa_00               1013 non-null float64\n",
      "psa_01               1013 non-null float64\n",
      "psa_02               1013 non-null float64\n",
      "psa_03               1013 non-null float64\n",
      "psa_04               1013 non-null float64\n",
      "stv_00               1013 non-null float64\n",
      "stv_01               1013 non-null float64\n",
      "car_00               1013 non-null float64\n",
      "car_01               1013 non-null float64\n",
      "lln_00               1013 non-null float64\n",
      "lln_01               1013 non-null float64\n",
      "lan_00               1013 non-null float64\n",
      "lan_01               1013 non-null float64\n",
      "lan_02               1013 non-null float64\n",
      "lan_03               1013 non-null float64\n",
      "lan_04               1013 non-null float64\n",
      "lan_05               1013 non-null float64\n",
      "lan_06               1013 non-null float64\n",
      "lan_07               1013 non-null float64\n",
      "lan_08               1013 non-null float64\n",
      "lan_09               1013 non-null float64\n",
      "lan_10               1013 non-null float64\n",
      "lan_11               1013 non-null float64\n",
      "lan_12               1013 non-null float64\n",
      "lan_13               1013 non-null float64\n",
      "lan_14               1013 non-null float64\n",
      "pg_00                1013 non-null float64\n",
      "pg_01                1013 non-null float64\n",
      "pg_02                1013 non-null float64\n",
      "pg_03                1013 non-null float64\n",
      "pg_04                1013 non-null float64\n",
      "lgt_00               1013 non-null float64\n",
      "pw_00                1013 non-null float64\n",
      "pw_01                1013 non-null float64\n",
      "pw_02                1013 non-null float64\n",
      "pw_03                1013 non-null float64\n",
      "pw_04                1013 non-null float64\n",
      "pw_05                1013 non-null float64\n",
      "pw_06                1013 non-null float64\n",
      "pw_07                1013 non-null float64\n",
      "pw_08                1013 non-null float64\n",
      "ADM4_PCODE           1013 non-null object\n",
      "lat                  1013 non-null float64\n",
      "lon                  1013 non-null float64\n",
      "NL                   1013 non-null float64\n",
      "dtypes: float64(60), object(2)\n",
      "memory usage: 490.8+ KB\n"
     ]
    }
   ],
   "source": [
    "test.info()"
   ]
  },
  {
   "cell_type": "markdown",
   "metadata": {},
   "source": [
    "### - INTERESTING THING ABOUT THIS DATASET IS THE ABSENCE OF MISSING VALUES (JACKPOT...less work)"
   ]
  },
  {
   "cell_type": "code",
   "execution_count": 5,
   "metadata": {},
   "outputs": [
    {
     "data": {
      "text/plain": [
       "ward                 2822\n",
       "total_households     2822\n",
       "total_individuals    2822\n",
       "target               2822\n",
       "dw_00                2822\n",
       "dw_01                2735\n",
       "dw_02                2754\n",
       "dw_03                2094\n",
       "dw_04                1799\n",
       "dw_05                1952\n",
       "dw_06                2714\n",
       "dw_07                2770\n",
       "dw_08                2705\n",
       "dw_09                2130\n",
       "dw_10                1695\n",
       "dw_11                2715\n",
       "dw_12                   1\n",
       "dw_13                   1\n",
       "psa_00               2822\n",
       "psa_01               2822\n",
       "psa_02               2308\n",
       "psa_03               2822\n",
       "psa_04               2822\n",
       "stv_00               2822\n",
       "stv_01               2822\n",
       "car_00               2822\n",
       "car_01               2822\n",
       "lln_00               2822\n",
       "lln_01               2822\n",
       "lan_00               2818\n",
       "lan_01               2822\n",
       "lan_02               2806\n",
       "lan_03               2788\n",
       "lan_04               2814\n",
       "lan_05               2796\n",
       "lan_06               2805\n",
       "lan_07               2811\n",
       "lan_08               2799\n",
       "lan_09               2530\n",
       "lan_10               2520\n",
       "lan_11               2524\n",
       "lan_12               2755\n",
       "lan_13                  1\n",
       "lan_14               1459\n",
       "pg_00                2822\n",
       "pg_01                2734\n",
       "pg_02                2778\n",
       "pg_03                2715\n",
       "pg_04                2693\n",
       "lgt_00               2822\n",
       "pw_00                2822\n",
       "pw_01                2822\n",
       "pw_02                2763\n",
       "pw_03                2690\n",
       "pw_04                2467\n",
       "pw_05                2157\n",
       "pw_06                2792\n",
       "pw_07                   1\n",
       "pw_08                   1\n",
       "ADM4_PCODE           2822\n",
       "lat                  2822\n",
       "lon                  2822\n",
       "NL                   2658\n",
       "dtype: int64"
      ]
     },
     "execution_count": 5,
     "metadata": {},
     "output_type": "execute_result"
    }
   ],
   "source": [
    "pd.set_option('display.max_rows', 200)\n",
    "train.nunique()"
   ]
  },
  {
   "cell_type": "markdown",
   "metadata": {},
   "source": [
    "#### - I decide to drop the only two Panda Series (Columns) with non NUMERICAL values...\n",
    "#### - Why do this? All the values in the pd series (ward, ADM4_PCODE) with non NUMERICAL values are all unique\n",
    "#### - We could do further Feature Engineering and find a pattern in them though (P.S: i am kinda lazy)"
   ]
  },
  {
   "cell_type": "code",
   "execution_count": 2,
   "metadata": {},
   "outputs": [
    {
     "name": "stdout",
     "output_type": "stream",
     "text": [
      "(2822, 61)\n",
      "(1013, 60)\n",
      "(2822,)\n"
     ]
    }
   ],
   "source": [
    "# Making a copy of the dataset with the two columns dropped\n",
    "train_copy = train.drop(['ADM4_PCODE', 'ward'], axis=1)\n",
    "test_copy = test.drop(['ADM4_PCODE', 'ward'], axis=1)\n",
    "\n",
    "y = train['target']\n",
    "\n",
    "print(train_copy.shape)\n",
    "print(test_copy.shape)\n",
    "print(y.shape)"
   ]
  },
  {
   "cell_type": "markdown",
   "metadata": {},
   "source": [
    "#### -LIKE I SAID EARLY THIS IS A SIMPLE EDA ITS SUFFICIENT TO TRAIN A MODEL SINCE THE DATA IS QUITE CLEAN AND WELL STRUCTURED ALREADY\n",
    "#### -A LOT MORE ANALYSIS AND FEATURE ENGINEERNG CAN BE CARRIED OUT ON THIS DATA I AWAIT YOUR CONTRIBUTIONS TO THIS\n",
    "#### -LET US EXPORT THIS FILE AS .csv AND USE THEM TO TRAIN SOME MODELS"
   ]
  },
  {
   "cell_type": "code",
   "execution_count": 3,
   "metadata": {},
   "outputs": [],
   "source": [
    "\n",
    "train_copy.to_csv('train_copy.csv', index=False)\n",
    "\n",
    "test_copy.to_csv('test_copy.csv', index=False)"
   ]
  },
  {
   "cell_type": "code",
   "execution_count": null,
   "metadata": {},
   "outputs": [],
   "source": []
  }
 ],
 "metadata": {
  "kernelspec": {
   "display_name": "Python 3",
   "language": "python",
   "name": "python3"
  },
  "language_info": {
   "codemirror_mode": {
    "name": "ipython",
    "version": 3
   },
   "file_extension": ".py",
   "mimetype": "text/x-python",
   "name": "python",
   "nbconvert_exporter": "python",
   "pygments_lexer": "ipython3",
   "version": "3.6.9"
  }
 },
 "nbformat": 4,
 "nbformat_minor": 4
}
