{
 "cells": [
  {
   "cell_type": "markdown",
   "metadata": {},
   "source": [
    "#### - IMPORTING THE NEEDED PYTHON MODULES AND DATA SETS INTO THE WORKSPACE"
   ]
  },
  {
   "cell_type": "code",
   "execution_count": 5,
   "metadata": {},
   "outputs": [
    {
     "name": "stdout",
     "output_type": "stream",
     "text": [
      "(2822, 61)\n",
      "(1013, 60)\n",
      "(2822,)\n"
     ]
    }
   ],
   "source": [
    "import pandas as pd\n",
    "import numpy as np\n",
    "from sklearn.model_selection import train_test_split, cross_val_score, KFold, GridSearchCV\n",
    "\n",
    "train = pd.read_csv('train_copy.csv')\n",
    "test = pd.read_csv('test_copy.csv')\n",
    "test_ID = pd.read_csv('test.csv')\n",
    "\n",
    "\n",
    "print(train.shape)\n",
    "print(test.shape)\n",
    "print(y.shape)"
   ]
  },
  {
   "cell_type": "markdown",
   "metadata": {},
   "source": [
    "#### - SPLITTING THE DATASET INTO X AND y FOR TRAINING OUR ML ALGORITHMS"
   ]
  },
  {
   "cell_type": "code",
   "execution_count": 6,
   "metadata": {},
   "outputs": [
    {
     "name": "stdout",
     "output_type": "stream",
     "text": [
      "Shape of X (2822, 60)\n",
      "Shape of y (2822,)\n",
      "Shape of ID (1013,)\n"
     ]
    }
   ],
   "source": [
    "# WE ARE DROPPING THE 'target' pd series(column) FROM X \n",
    "X = train.drop('target', axis=1)\n",
    "\n",
    "y = train['target']\n",
    "\n",
    "ID = test_ID['ward']\n",
    "\n",
    "print(\"Shape of X\", X.shape)\n",
    "print(\"Shape of y\", y.shape)\n",
    "print(\"Shape of ID\", ID.shape)\n",
    "\n"
   ]
  },
  {
   "cell_type": "markdown",
   "metadata": {},
   "source": [
    "#### - IMPORTING OUR MODELS (ML ALGORITHMS) I WANT TO TRAIN WITH THE DATASET"
   ]
  },
  {
   "cell_type": "code",
   "execution_count": 7,
   "metadata": {},
   "outputs": [],
   "source": [
    "from xgboost import XGBRegressor\n",
    "from catboost import CatBoostRegressor\n",
    "from mlxtend.regressor import StackingRegressor"
   ]
  },
  {
   "cell_type": "markdown",
   "metadata": {},
   "source": [
    "#### -LETS IMPLEMENT SOME FORM OF STACKING USING THE 'StackingRegressor' ALGORITHM"
   ]
  },
  {
   "cell_type": "code",
   "execution_count": 8,
   "metadata": {},
   "outputs": [],
   "source": [
    "# CREATING THE ML ALGORITHMS WE WANT TO STACK TOGETHER\n",
    "CAT1 = CatBoostRegressor(metric_period=50)\n",
    "CAT2 = CatBoostRegressor(metric_period=20, eval_metric='RMSE')\n",
    "\n",
    "# CREATING A XGB ALGORITM TO SERVE AS OUT META-REGRESSOR (it aggregates prediction from the stacked models)\n",
    "XG = XGBRegressor()\n",
    "\n",
    "# CREATING PUT STACKED MODEL USING \"StackingRegressor\"\n",
    "model = StackingRegressor(regressors= [CAT1, CAT2], meta_regressor= XG)"
   ]
  },
  {
   "cell_type": "markdown",
   "metadata": {},
   "source": [
    "#### - TO MAKE THIS FANCY, I DEFINE A FUNCTION TO OUTPUT OUR PREDICTED VALUES INTO A CSV FILE"
   ]
  },
  {
   "cell_type": "code",
   "execution_count": 16,
   "metadata": {},
   "outputs": [],
   "source": [
    "def output_csv(file_name, algorithm = model, X_data = X, y_data= y, ID_column = ID, test_data = test):\n",
    "    algorithm.fit(X_data, y_data)\n",
    "\n",
    "    pred = algorithm.predict(test_data)\n",
    "    \n",
    "\n",
    "    output = pd.DataFrame({'ward' : ID_column,\n",
    "                           'target' : pred})\n",
    "\n",
    "    output.to_csv(file_name, index=False)"
   ]
  },
  {
   "cell_type": "markdown",
   "metadata": {},
   "source": [
    "#### - OKAY LET US GENERATE SOME PREDICTIONS"
   ]
  },
  {
   "cell_type": "code",
   "execution_count": 17,
   "metadata": {},
   "outputs": [
    {
     "name": "stdout",
     "output_type": "stream",
     "text": [
      "0:\tlearn: 25.8472228\ttotal: 203ms\tremaining: 3m 22s\n",
      "50:\tlearn: 7.3618164\ttotal: 5.26s\tremaining: 1m 37s\n",
      "100:\tlearn: 4.0681476\ttotal: 10s\tremaining: 1m 29s\n",
      "150:\tlearn: 3.5402620\ttotal: 14.6s\tremaining: 1m 21s\n",
      "200:\tlearn: 3.3542655\ttotal: 19.4s\tremaining: 1m 17s\n",
      "250:\tlearn: 3.2601365\ttotal: 24s\tremaining: 1m 11s\n",
      "300:\tlearn: 3.1996060\ttotal: 27.5s\tremaining: 1m 3s\n",
      "350:\tlearn: 3.1395610\ttotal: 30.5s\tremaining: 56.4s\n",
      "400:\tlearn: 3.0599333\ttotal: 34.5s\tremaining: 51.6s\n",
      "450:\tlearn: 2.9953229\ttotal: 38.4s\tremaining: 46.7s\n",
      "500:\tlearn: 2.9477816\ttotal: 42.7s\tremaining: 42.5s\n",
      "550:\tlearn: 2.8853993\ttotal: 47.2s\tremaining: 38.5s\n",
      "600:\tlearn: 2.8262693\ttotal: 51.6s\tremaining: 34.3s\n",
      "650:\tlearn: 2.7778184\ttotal: 56.3s\tremaining: 30.2s\n",
      "700:\tlearn: 2.7226032\ttotal: 1m 1s\tremaining: 26.2s\n",
      "750:\tlearn: 2.6731012\ttotal: 1m 6s\tremaining: 21.9s\n",
      "800:\tlearn: 2.6346432\ttotal: 1m 10s\tremaining: 17.5s\n",
      "850:\tlearn: 2.5950697\ttotal: 1m 14s\tremaining: 13.1s\n",
      "900:\tlearn: 2.5678463\ttotal: 1m 19s\tremaining: 8.7s\n",
      "950:\tlearn: 2.5342177\ttotal: 1m 24s\tremaining: 4.33s\n",
      "999:\tlearn: 2.5056389\ttotal: 1m 28s\tremaining: 0us\n",
      "0:\tlearn: 25.8472228\ttotal: 115ms\tremaining: 1m 54s\n",
      "20:\tlearn: 14.9378452\ttotal: 2.25s\tremaining: 1m 45s\n",
      "40:\tlearn: 9.1090804\ttotal: 4.13s\tremaining: 1m 36s\n",
      "60:\tlearn: 6.1191232\ttotal: 5.98s\tremaining: 1m 32s\n",
      "80:\tlearn: 4.7126589\ttotal: 7.88s\tremaining: 1m 29s\n",
      "100:\tlearn: 4.0681476\ttotal: 10s\tremaining: 1m 29s\n",
      "120:\tlearn: 3.7623602\ttotal: 11.8s\tremaining: 1m 26s\n",
      "140:\tlearn: 3.5971580\ttotal: 13.7s\tremaining: 1m 23s\n",
      "160:\tlearn: 3.4947965\ttotal: 15.5s\tremaining: 1m 20s\n",
      "180:\tlearn: 3.4091098\ttotal: 17.3s\tremaining: 1m 18s\n",
      "200:\tlearn: 3.3542655\ttotal: 19.1s\tremaining: 1m 16s\n",
      "220:\tlearn: 3.3123457\ttotal: 20.9s\tremaining: 1m 13s\n",
      "240:\tlearn: 3.2832494\ttotal: 22.7s\tremaining: 1m 11s\n",
      "260:\tlearn: 3.2494131\ttotal: 24.5s\tremaining: 1m 9s\n",
      "280:\tlearn: 3.2222634\ttotal: 26.2s\tremaining: 1m 7s\n",
      "300:\tlearn: 3.1996060\ttotal: 27.4s\tremaining: 1m 3s\n",
      "320:\tlearn: 3.1814762\ttotal: 28.5s\tremaining: 1m\n",
      "340:\tlearn: 3.1596984\ttotal: 29.6s\tremaining: 57.2s\n",
      "360:\tlearn: 3.1226306\ttotal: 31.1s\tremaining: 55.1s\n",
      "380:\tlearn: 3.0961905\ttotal: 32.4s\tremaining: 52.6s\n",
      "400:\tlearn: 3.0599333\ttotal: 34s\tremaining: 50.8s\n",
      "420:\tlearn: 3.0327441\ttotal: 35.5s\tremaining: 48.8s\n",
      "440:\tlearn: 3.0105092\ttotal: 37s\tremaining: 46.8s\n",
      "460:\tlearn: 2.9912323\ttotal: 38.2s\tremaining: 44.7s\n",
      "480:\tlearn: 2.9681051\ttotal: 39.8s\tremaining: 42.9s\n",
      "500:\tlearn: 2.9477816\ttotal: 41.6s\tremaining: 41.4s\n",
      "520:\tlearn: 2.9163798\ttotal: 43.1s\tremaining: 39.7s\n",
      "540:\tlearn: 2.8931518\ttotal: 44.6s\tremaining: 37.8s\n",
      "560:\tlearn: 2.8748041\ttotal: 46.1s\tremaining: 36.1s\n",
      "580:\tlearn: 2.8513825\ttotal: 47.8s\tremaining: 34.5s\n",
      "600:\tlearn: 2.8262693\ttotal: 49.7s\tremaining: 33s\n",
      "620:\tlearn: 2.7974037\ttotal: 51.9s\tremaining: 31.7s\n",
      "640:\tlearn: 2.7870400\ttotal: 53.9s\tremaining: 30.2s\n",
      "660:\tlearn: 2.7688957\ttotal: 56.3s\tremaining: 28.9s\n",
      "680:\tlearn: 2.7431591\ttotal: 59.2s\tremaining: 27.7s\n",
      "700:\tlearn: 2.7226032\ttotal: 1m 1s\tremaining: 26.3s\n",
      "720:\tlearn: 2.7025983\ttotal: 1m 3s\tremaining: 24.7s\n",
      "740:\tlearn: 2.6818528\ttotal: 1m 5s\tremaining: 23s\n",
      "760:\tlearn: 2.6597234\ttotal: 1m 8s\tremaining: 21.4s\n",
      "780:\tlearn: 2.6453615\ttotal: 1m 10s\tremaining: 19.7s\n",
      "800:\tlearn: 2.6346432\ttotal: 1m 12s\tremaining: 18.1s\n",
      "820:\tlearn: 2.6161179\ttotal: 1m 16s\tremaining: 16.6s\n",
      "840:\tlearn: 2.6018383\ttotal: 1m 18s\tremaining: 14.9s\n",
      "860:\tlearn: 2.5885943\ttotal: 1m 21s\tremaining: 13.1s\n",
      "880:\tlearn: 2.5804463\ttotal: 1m 23s\tremaining: 11.2s\n",
      "900:\tlearn: 2.5678463\ttotal: 1m 24s\tremaining: 9.33s\n",
      "920:\tlearn: 2.5553736\ttotal: 1m 27s\tremaining: 7.49s\n",
      "940:\tlearn: 2.5430274\ttotal: 1m 29s\tremaining: 5.61s\n",
      "960:\tlearn: 2.5263052\ttotal: 1m 31s\tremaining: 3.7s\n",
      "980:\tlearn: 2.5150776\ttotal: 1m 33s\tremaining: 1.8s\n",
      "999:\tlearn: 2.5056389\ttotal: 1m 34s\tremaining: 0us\n"
     ]
    },
    {
     "name": "stderr",
     "output_type": "stream",
     "text": [
      "C:\\Users\\Adeoluwa Adeboye\\Anaconda3\\lib\\site-packages\\xgboost\\core.py:587: FutureWarning: Series.base is deprecated and will be removed in a future version\n",
      "  if getattr(data, 'base', None) is not None and \\\n",
      "C:\\Users\\Adeoluwa Adeboye\\Anaconda3\\lib\\site-packages\\xgboost\\core.py:588: FutureWarning: Series.base is deprecated and will be removed in a future version\n",
      "  data.base is not None and isinstance(data, np.ndarray) \\\n"
     ]
    },
    {
     "name": "stdout",
     "output_type": "stream",
     "text": [
      "[11:58:41] WARNING: src/objective/regression_obj.cu:152: reg:linear is now deprecated in favor of reg:squarederror.\n"
     ]
    }
   ],
   "source": [
    "# NOTE WE ONLY SUPPLIED ONE ARGUMENT...BECAUSE THE OTHER ARGUMENTS HAVE DEFAULT VALUES ATTACHED TO THEM\n",
    "output_csv(\"Stacking_Prediction.csv\")"
   ]
  },
  {
   "cell_type": "markdown",
   "metadata": {},
   "source": [
    "## - THAT ALL FOR NOW\n",
    "## - FEEL FREE TO MAKE PULL REQUESTS, FORK, CLONE AND DOWNLOAD THIS REPO AND IMPROVE ON THIS MEAGRE MODEL OF MINE...vielen dank (THANK YOU!!!)"
   ]
  },
  {
   "cell_type": "code",
   "execution_count": null,
   "metadata": {},
   "outputs": [],
   "source": []
  }
 ],
 "metadata": {
  "kernelspec": {
   "display_name": "Python 3",
   "language": "python",
   "name": "python3"
  },
  "language_info": {
   "codemirror_mode": {
    "name": "ipython",
    "version": 3
   },
   "file_extension": ".py",
   "mimetype": "text/x-python",
   "name": "python",
   "nbconvert_exporter": "python",
   "pygments_lexer": "ipython3",
   "version": "3.6.9"
  }
 },
 "nbformat": 4,
 "nbformat_minor": 4
}
